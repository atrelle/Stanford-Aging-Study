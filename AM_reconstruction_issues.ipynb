{
 "cells": [
  {
   "cell_type": "markdown",
   "metadata": {},
   "source": [
    "## Count TRs in header for each subject listed as having missing TRs"
   ]
  },
  {
   "cell_type": "code",
   "execution_count": 1,
   "metadata": {
    "collapsed": true
   },
   "outputs": [],
   "source": [
    "import nibabel as nib\n",
    "import pandas as pd"
   ]
  },
  {
   "cell_type": "code",
   "execution_count": null,
   "metadata": {
    "collapsed": true
   },
   "outputs": [],
   "source": [
    "\"\"\"\n",
    "Subjects with 6+ missing TRs:\n",
    "\n",
    "Exam #s     AM Codes\n",
    "9664        am42 (not default series #)\n",
    "10431       am56\n",
    "11788       am81\n",
    "11847       am82 (not default series #)\n",
    "\"\"\""
   ]
  },
  {
   "cell_type": "code",
   "execution_count": 7,
   "metadata": {
    "collapsed": false
   },
   "outputs": [],
   "source": [
    "series_df = pd.read_csv(\"/Volumes/awagner/AM/data/series_nums/series_nums.csv\", index_col = 0)"
   ]
  },
  {
   "cell_type": "code",
   "execution_count": 16,
   "metadata": {
    "collapsed": false
   },
   "outputs": [],
   "source": [
    "subs2run = [\"am42\", \"am56\", \"am81\", \"am82\"]\n",
    "\n",
    "numTRs_df = pd.DataFrame(columns = [\"subject\", \"series_num\", \"phase\", \"run\", \"numTRs\", \"error\"])\n",
    "\n",
    "expected_TRs = {\"study\" : 156, \"test\" :  192}\n",
    "\n",
    "row = 0\n",
    "for subject in subs2run:\n",
    "    for phase in [\"study\", \"test\"]:\n",
    "        for run in range(1,6):\n",
    "            file = \"/Volumes/awagner/AM/data/{}/bold/{}_0{}.nii.gz\".format(subject, phase, run)\n",
    "            im = nib.load(file)\n",
    "            numTRs = im.shape[3]\n",
    "            \n",
    "            if numTRs != expected_TRs[phase]:\n",
    "                error = \"Yes\"\n",
    "            else:\n",
    "                error = \"No\"\n",
    "            \n",
    "            run_label = phase + str(run)\n",
    "            series_num = series_df.loc[subject, run_label]\n",
    "\n",
    "            numTRs_df.loc[str(row), \"subject\"] = subject\n",
    "            numTRs_df.loc[str(row), \"series_num\"] = series_num\n",
    "            numTRs_df.loc[str(row), \"phase\"] = phase\n",
    "            numTRs_df.loc[str(row), \"run\"] = run\n",
    "            numTRs_df.loc[str(row), \"numTRs\"] = numTRs\n",
    "            numTRs_df.loc[str(row), \"error\"] = error\n",
    "            \n",
    "            row += 1"
   ]
  },
  {
   "cell_type": "code",
   "execution_count": 17,
   "metadata": {
    "collapsed": false
   },
   "outputs": [
    {
     "name": "stdout",
     "output_type": "stream",
     "text": [
      "   subject series_num  phase run numTRs error\n",
      "0     am42          7  study   1     19   Yes\n",
      "1     am42         13  study   2    156    No\n",
      "2     am42         20  study   3    156    No\n",
      "3     am42         26  study   4    156    No\n",
      "4     am42         32  study   5    156    No\n",
      "5     am42         10   test   1    192    No\n",
      "6     am42         17   test   2    192    No\n",
      "7     am42         23   test   3    192    No\n",
      "8     am42         29   test   4    192    No\n",
      "9     am42         35   test   5    192    No\n",
      "10    am56          7  study   1    156    No\n",
      "11    am56         13  study   2    156    No\n",
      "12    am56         19  study   3    156    No\n",
      "13    am56         25  study   4    156    No\n",
      "14    am56         31  study   5    156    No\n",
      "15    am56         10   test   1    192    No\n",
      "16    am56         16   test   2    192    No\n",
      "17    am56         22   test   3    192    No\n",
      "18    am56         28   test   4    192    No\n",
      "19    am56         34   test   5     92   Yes\n",
      "20    am81          7  study   1    156    No\n",
      "21    am81         13  study   2    156    No\n",
      "22    am81         19  study   3    156    No\n",
      "23    am81         25  study   4    156    No\n",
      "24    am81         31  study   5    156    No\n",
      "25    am81         10   test   1    192    No\n",
      "26    am81         16   test   2    151   Yes\n",
      "27    am81         22   test   3    192    No\n",
      "28    am81         28   test   4    192    No\n",
      "29    am81         34   test   5    192    No\n",
      "30    am82          8  study   1    150   Yes\n",
      "31    am82         14  study   2    150   Yes\n",
      "32    am82         20  study   3    150   Yes\n",
      "33    am82         26  study   4    150   Yes\n",
      "34    am82         32  study   5    150   Yes\n",
      "35    am82         11   test   1    186   Yes\n",
      "36    am82         17   test   2    186   Yes\n",
      "37    am82         23   test   3    186   Yes\n",
      "38    am82         29   test   4    186   Yes\n",
      "39    am82         35   test   5    186   Yes\n"
     ]
    }
   ],
   "source": [
    "print(numTRs_df)"
   ]
  }
 ],
 "metadata": {
  "kernelspec": {
   "display_name": "Python 2",
   "language": "python",
   "name": "python2"
  },
  "language_info": {
   "codemirror_mode": {
    "name": "ipython",
    "version": 2
   },
   "file_extension": ".py",
   "mimetype": "text/x-python",
   "name": "python",
   "nbconvert_exporter": "python",
   "pygments_lexer": "ipython2",
   "version": "2.7.12"
  }
 },
 "nbformat": 4,
 "nbformat_minor": 2
}
