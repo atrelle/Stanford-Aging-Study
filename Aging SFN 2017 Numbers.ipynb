{
 "cells": [
  {
   "cell_type": "code",
   "execution_count": 1,
   "metadata": {
    "collapsed": true
   },
   "outputs": [],
   "source": [
    "import numpy as np\n",
    "import pandas as pd"
   ]
  },
  {
   "cell_type": "code",
   "execution_count": 14,
   "metadata": {
    "collapsed": false
   },
   "outputs": [],
   "source": [
    "# Load data\n",
    "RedCap_df = pd.read_csv('/Users/sguerin/Documents/Experiments/fMRI/Stanford/Stanford_Aging_project/SFN_2017/usable_metrics_and_3t_basics_041917.csv')\n",
    "CNI_df = pd.read_csv('/Users/sguerin/Documents/Experiments/fMRI/Stanford/Stanford_Aging_project/SFN_2017/CNI_QA_ok.csv', header=None)"
   ]
  },
  {
   "cell_type": "code",
   "execution_count": 39,
   "metadata": {
    "collapsed": true
   },
   "outputs": [],
   "source": [
    "# Enter missing value\n",
    "RedCap_df.loc[RedCap_df['pidn']==448, 'am_num'] = 'am25'"
   ]
  },
  {
   "cell_type": "code",
   "execution_count": 43,
   "metadata": {
    "collapsed": false
   },
   "outputs": [],
   "source": [
    "# Enter CNI status in RedCap_df\n",
    "for index, row in CNI_df.iterrows():\n",
    "    CNI_AM_code = CNI_df.loc[index, 0]\n",
    "    \n",
    "    if CNI_AM_code not in np.array(RedCap_df['am_num']):\n",
    "        print(CNI_AM_code +' missing')\n",
    "    \n",
    "    RedCap_df.loc[RedCap_df['am_num']==CNI_AM_code, 'CNI_QA_OK'] = True\n",
    "    "
   ]
  },
  {
   "cell_type": "code",
   "execution_count": 67,
   "metadata": {
    "collapsed": false
   },
   "outputs": [
    {
     "data": {
      "text/plain": [
       "array([ 12.,  22.,  20.,  34.,  47.,  76.,  45.])"
      ]
     },
     "execution_count": 67,
     "metadata": {},
     "output_type": "execute_result"
    }
   ],
   "source": [
    "# Count combinatiosn fo data\n",
    "combinations = list()\n",
    "combinations.append(['roi_7t_drawn_jeff', 'dprime_all', 'CNI_QA_OK'])\n",
    "combinations.append(['roi_7t_drawn_jeff', 'dprime_all'])\n",
    "combinations.append(['roi_7t_drawn_jeff', 'CNI_QA_OK'])\n",
    "combinations.append(['dprime_all', 'CNI_QA_OK'])\n",
    "combinations.append(['roi_7t_drawn_jeff'])\n",
    "combinations.append(['dprime_all'])\n",
    "combinations.append(['CNI_QA_OK'])\n",
    "\n",
    "combination_count = np.zeros((7))\n",
    "\n",
    "for index, row in RedCap_df.iterrows():\n",
    "    # Check each combination\n",
    "    combination_number = 0\n",
    "    for this_set in combinations:\n",
    "        # Check each element in the combination\n",
    "        outcome = True\n",
    "        for element in this_set:\n",
    "            if element=='roi_7t_drawn_jeff':\n",
    "                if row[element]!='Yes':\n",
    "                    outcome = False\n",
    "                    \n",
    "            if element=='dprime_all':\n",
    "                if np.isnan(row[element]):\n",
    "                    outcome = False\n",
    "                    \n",
    "            if element=='CNI_QA_OK':\n",
    "                if np.isnan(row[element]):\n",
    "                    outcome = False\n",
    "                    \n",
    "        if outcome:\n",
    "            combination_count[combination_number] += 1\n",
    "            \n",
    "        combination_number += 1\n",
    "\n",
    "combination_count"
   ]
  },
  {
   "cell_type": "code",
   "execution_count": 68,
   "metadata": {
    "collapsed": false
   },
   "outputs": [
    {
     "data": {
      "text/html": [
       "<div>\n",
       "<table border=\"1\" class=\"dataframe\">\n",
       "  <thead>\n",
       "    <tr style=\"text-align: right;\">\n",
       "      <th></th>\n",
       "      <th>roi_7t_drawn_jeff</th>\n",
       "      <th>dprime_all</th>\n",
       "      <th>CNI_QA_OK</th>\n",
       "      <th>Total</th>\n",
       "    </tr>\n",
       "  </thead>\n",
       "  <tbody>\n",
       "    <tr>\n",
       "      <th>0</th>\n",
       "      <td>Yes</td>\n",
       "      <td>Yes</td>\n",
       "      <td>Yes</td>\n",
       "      <td>12</td>\n",
       "    </tr>\n",
       "    <tr>\n",
       "      <th>1</th>\n",
       "      <td>Yes</td>\n",
       "      <td>Yes</td>\n",
       "      <td>NaN</td>\n",
       "      <td>22</td>\n",
       "    </tr>\n",
       "    <tr>\n",
       "      <th>2</th>\n",
       "      <td>Yes</td>\n",
       "      <td>NaN</td>\n",
       "      <td>Yes</td>\n",
       "      <td>20</td>\n",
       "    </tr>\n",
       "    <tr>\n",
       "      <th>3</th>\n",
       "      <td>NaN</td>\n",
       "      <td>Yes</td>\n",
       "      <td>Yes</td>\n",
       "      <td>34</td>\n",
       "    </tr>\n",
       "    <tr>\n",
       "      <th>4</th>\n",
       "      <td>Yes</td>\n",
       "      <td>NaN</td>\n",
       "      <td>NaN</td>\n",
       "      <td>47</td>\n",
       "    </tr>\n",
       "    <tr>\n",
       "      <th>5</th>\n",
       "      <td>NaN</td>\n",
       "      <td>Yes</td>\n",
       "      <td>NaN</td>\n",
       "      <td>76</td>\n",
       "    </tr>\n",
       "    <tr>\n",
       "      <th>6</th>\n",
       "      <td>NaN</td>\n",
       "      <td>NaN</td>\n",
       "      <td>Yes</td>\n",
       "      <td>45</td>\n",
       "    </tr>\n",
       "  </tbody>\n",
       "</table>\n",
       "</div>"
      ],
      "text/plain": [
       "  roi_7t_drawn_jeff dprime_all CNI_QA_OK Total\n",
       "0               Yes        Yes       Yes    12\n",
       "1               Yes        Yes       NaN    22\n",
       "2               Yes        NaN       Yes    20\n",
       "3               NaN        Yes       Yes    34\n",
       "4               Yes        NaN       NaN    47\n",
       "5               NaN        Yes       NaN    76\n",
       "6               NaN        NaN       Yes    45"
      ]
     },
     "execution_count": 68,
     "metadata": {},
     "output_type": "execute_result"
    }
   ],
   "source": [
    "# Get Summary Table\n",
    "summary_df = pd.DataFrame(columns = ['roi_7t_drawn_jeff', 'dprime_all', 'CNI_QA_OK', 'Total'])\n",
    "combination_number = 0\n",
    "for this_set in combinations:\n",
    "    for element in this_set:\n",
    "        summary_df.loc[combination_number, element] = 'Yes'\n",
    "        summary_df.loc[combination_number, 'Total'] = combination_count[combination_number]\n",
    "        \n",
    "    combination_number += 1\n",
    "    \n",
    "summary_df"
   ]
  },
  {
   "cell_type": "code",
   "execution_count": 99,
   "metadata": {
    "collapsed": false
   },
   "outputs": [],
   "source": [
    "# Get summary table - strategy 2\n",
    "\n",
    "summary_df = pd.DataFrame(columns = ['roi_7t_drawn_jeff', 'dprime_all', 'CNI_QA_OK', 'Total'])\n",
    "\n",
    "# All possible combinations\n",
    "summary_df.loc['all', :] = ['Yes', 'Yes', 'Yes', 0]\n",
    "\n",
    "summary_df.loc['7T-3Tb', :] = ['Yes', 'Yes', 'NaN', 0]\n",
    "summary_df.loc['7T-3Ti', :] = ['Yes', 'NaN', 'Yes', 0]\n",
    "summary_df.loc['3Tb-3Ti', :] = ['NaN', 'Yes', 'Yes', 0]\n",
    "\n",
    "summary_df.loc['7T', :]  = ['Yes', 'NaN', 'NaN', 0]\n",
    "summary_df.loc['3Tb', :] = ['NaN', 'Yes', 'NaN', 0]\n",
    "summary_df.loc['3Ti', :] = ['NaN', 'NaN', 'Yes', 0]\n",
    "\n",
    "# Loop through rows of df and count\n",
    "for index, row in RedCap_df.iterrows():\n",
    "    row_combination = pd.Series(data=['NaN', 'NaN', 'NaN'], index = ['roi_7t_drawn_jeff', 'dprime_all', 'CNI_QA_OK'])\n",
    "    \n",
    "    # Fill in combination for this row and record totals for 7T, 3Tb, 3Ti\n",
    "    if row['roi_7t_drawn_jeff']=='Yes':\n",
    "        row_combination['roi_7t_drawn_jeff'] = 'Yes'\n",
    "        summary_df.loc['7T', 'Total'] += 1\n",
    "    \n",
    "    if not np.isnan(row['dprime_all']):\n",
    "        row_combination['dprime_all'] = 'Yes'\n",
    "        summary_df.loc['3Tb', 'Total'] += 1\n",
    "    \n",
    "    if not np.isnan(row['CNI_QA_OK']):\n",
    "        row_combination['CNI_QA_OK'] = 'Yes'\n",
    "        summary_df.loc['3Ti', 'Total'] += 1\n",
    "    \n",
    "    # Check for combinations (all 3 or 3 possible pairs)\n",
    "    # All 3\n",
    "    if list(row_combination) == list(summary_df.loc['all', ['roi_7t_drawn_jeff', 'dprime_all', 'CNI_QA_OK']]):\n",
    "        summary_df.loc['all', 'Total'] += 1\n",
    "        summary_df.loc['7T-3Tb', 'Total'] += 1\n",
    "        summary_df.loc['7T-3Ti', 'Total'] += 1\n",
    "        summary_df.loc['3Tb-3Ti', 'Total'] += 1\n",
    "    \n",
    "    # 3 possible pairs\n",
    "    if list(row_combination) ==  list(summary_df.loc['7T-3Tb', ['roi_7t_drawn_jeff', 'dprime_all', 'CNI_QA_OK']]):\n",
    "        summary_df.loc['7T-3Tb', 'Total'] += 1\n",
    "        \n",
    "    if list(row_combination) == list(summary_df.loc['7T-3Ti', ['roi_7t_drawn_jeff', 'dprime_all', 'CNI_QA_OK']]):\n",
    "        summary_df.loc['7T-3Ti', 'Total'] += 1\n",
    "               \n",
    "    if list(row_combination) ==  list(summary_df.loc['3Tb-3Ti', ['roi_7t_drawn_jeff', 'dprime_all', 'CNI_QA_OK']]):\n",
    "        summary_df.loc['3Tb-3Ti', 'Total'] += 1"
   ]
  },
  {
   "cell_type": "code",
   "execution_count": 100,
   "metadata": {
    "collapsed": false
   },
   "outputs": [
    {
     "data": {
      "text/html": [
       "<div>\n",
       "<table border=\"1\" class=\"dataframe\">\n",
       "  <thead>\n",
       "    <tr style=\"text-align: right;\">\n",
       "      <th></th>\n",
       "      <th>roi_7t_drawn_jeff</th>\n",
       "      <th>dprime_all</th>\n",
       "      <th>CNI_QA_OK</th>\n",
       "      <th>Total</th>\n",
       "    </tr>\n",
       "  </thead>\n",
       "  <tbody>\n",
       "    <tr>\n",
       "      <th>all</th>\n",
       "      <td>Yes</td>\n",
       "      <td>Yes</td>\n",
       "      <td>Yes</td>\n",
       "      <td>12</td>\n",
       "    </tr>\n",
       "    <tr>\n",
       "      <th>7T-3Tb</th>\n",
       "      <td>Yes</td>\n",
       "      <td>Yes</td>\n",
       "      <td>NaN</td>\n",
       "      <td>22</td>\n",
       "    </tr>\n",
       "    <tr>\n",
       "      <th>7T-3Ti</th>\n",
       "      <td>Yes</td>\n",
       "      <td>NaN</td>\n",
       "      <td>Yes</td>\n",
       "      <td>20</td>\n",
       "    </tr>\n",
       "    <tr>\n",
       "      <th>3Tb-3Ti</th>\n",
       "      <td>NaN</td>\n",
       "      <td>Yes</td>\n",
       "      <td>Yes</td>\n",
       "      <td>34</td>\n",
       "    </tr>\n",
       "    <tr>\n",
       "      <th>7T</th>\n",
       "      <td>Yes</td>\n",
       "      <td>NaN</td>\n",
       "      <td>NaN</td>\n",
       "      <td>47</td>\n",
       "    </tr>\n",
       "    <tr>\n",
       "      <th>3Tb</th>\n",
       "      <td>NaN</td>\n",
       "      <td>Yes</td>\n",
       "      <td>NaN</td>\n",
       "      <td>76</td>\n",
       "    </tr>\n",
       "    <tr>\n",
       "      <th>3Ti</th>\n",
       "      <td>NaN</td>\n",
       "      <td>NaN</td>\n",
       "      <td>Yes</td>\n",
       "      <td>45</td>\n",
       "    </tr>\n",
       "  </tbody>\n",
       "</table>\n",
       "</div>"
      ],
      "text/plain": [
       "        roi_7t_drawn_jeff dprime_all CNI_QA_OK Total\n",
       "all                   Yes        Yes       Yes    12\n",
       "7T-3Tb                Yes        Yes       NaN    22\n",
       "7T-3Ti                Yes        NaN       Yes    20\n",
       "3Tb-3Ti               NaN        Yes       Yes    34\n",
       "7T                    Yes        NaN       NaN    47\n",
       "3Tb                   NaN        Yes       NaN    76\n",
       "3Ti                   NaN        NaN       Yes    45"
      ]
     },
     "execution_count": 100,
     "metadata": {},
     "output_type": "execute_result"
    }
   ],
   "source": [
    "summary_df"
   ]
  },
  {
   "cell_type": "code",
   "execution_count": 95,
   "metadata": {
    "collapsed": false
   },
   "outputs": [],
   "source": [
    "\"\"\"\n",
    "* Updated #s from Manasi. Additional N=24. Brings total to 71.\n",
    "\n",
    "\n",
    "\n",
    "\n",
    "\n",
    "----\n",
    "\n",
    "* Delete Tues CNI slot after memorial day \n",
    "\"\"\""
   ]
  },
  {
   "cell_type": "code",
   "execution_count": null,
   "metadata": {
    "collapsed": true
   },
   "outputs": [],
   "source": []
  }
 ],
 "metadata": {
  "kernelspec": {
   "display_name": "Python 2",
   "language": "python",
   "name": "python2"
  },
  "language_info": {
   "codemirror_mode": {
    "name": "ipython",
    "version": 2
   },
   "file_extension": ".py",
   "mimetype": "text/x-python",
   "name": "python",
   "nbconvert_exporter": "python",
   "pygments_lexer": "ipython2",
   "version": "2.7.12"
  }
 },
 "nbformat": 4,
 "nbformat_minor": 2
}
